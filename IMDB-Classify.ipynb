{
 "cells": [
  {
   "cell_type": "code",
   "execution_count": 1,
   "metadata": {},
   "outputs": [
    {
     "name": "stdout",
     "output_type": "stream",
     "text": [
      "数据的样式为：\n",
      "tf.Tensor(\n",
      "[b\"As a lifelong fan of Dickens, I have invariably been disappointed by adaptations of his novels.<br /><br />Although his works presented an extremely accurate re-telling of human life at every level in Victorian Britain, throughout them all was a pervasive thread of humour that could be both playful or sarcastic as the narrative dictated. In a way, he was a literary caricaturist and cartoonist. He could be serious and hilarious in the same sentence. He pricked pride, lampooned arrogance, celebrated modesty, and empathised with loneliness and poverty. It may be a clich\\xc3\\xa9, but he was a people's writer.<br /><br />And it is the comedy that is so often missing from his interpretations. At the time of writing, Oliver Twist is being dramatised in serial form on BBC television. All of the misery and cruelty is their, but non of the humour, irony, and savage lampoonery. The result is just a dark, dismal experience: the story penned by a journalist rather than a novelist. It's not really Dickens at all.<br /><br />'Oliver!', on the other hand, is much closer to the mark. The mockery of officialdom is perfectly interpreted, from the blustering beadle to the drunken magistrate. The classic stand-off between the beadle and Mr Brownlow, in which the law is described as 'a ass, a idiot' couldn't have been better done. Harry Secombe is an ideal choice.<br /><br />But the blinding cruelty is also there, the callous indifference of the state, the cold, hunger, poverty and loneliness are all presented just as surely as The Master would have wished.<br /><br />And then there is crime. Ron Moody is a treasure as the sleazy Jewish fence, whilst Oliver Reid has Bill Sykes to perfection.<br /><br />Perhaps not surprisingly, Lionel Bart - himself a Jew from London's east-end - takes a liberty with Fagin by re-interpreting him as a much more benign fellow than was Dicken's original. In the novel, he was utterly ruthless, sending some of his own boys to the gallows in order to protect himself (though he was also caught and hanged). Whereas in the movie, he is presented as something of a wayward father-figure, a sort of charitable thief rather than a corrupter of children, the latter being a long-standing anti-semitic sentiment. Otherwise, very few liberties are taken with Dickens's original. All of the most memorable elements are included. Just enough menace and violence is retained to ensure narrative fidelity whilst at the same time allowing for children' sensibilities. Nancy is still beaten to death, Bullseye narrowly escapes drowning, and Bill Sykes gets a faithfully graphic come-uppance.<br /><br />Every song is excellent, though they do incline towards schmaltz. Mark Lester mimes his wonderfully. Both his and my favourite scene is the one in which the world comes alive to 'who will buy'. It's schmaltzy, but it's Dickens through and through.<br /><br />I could go on. I could commend the wonderful set-pieces, the contrast of the rich and poor. There is top-quality acting from more British regulars than you could shake a stick at.<br /><br />I ought to give it 10 points, but I'm feeling more like Scrooge today. Soak it up with your Christmas dinner. No original has been better realised.\"\n",
      " b\"Oh yeah! Jenna Jameson did it again! Yeah Baby! This movie rocks. It was one of the 1st movies i saw of her. And i have to say i feel in love with her, she was great in this move.<br /><br />Her performance was outstanding and what i liked the most was the scenery and the wardrobe it was amazing you can tell that they put a lot into the movie the girls cloth were amazing.<br /><br />I hope this comment helps and u can buy the movie, the storyline is awesome is very unique and i'm sure u are going to like it. Jenna amazed us once more and no wonder the movie won so many awards. Her make-up and wardrobe is very very sexy and the girls on girls scene is amazing. specially the one where she looks like an angel. It's a must see and i hope u share my interests\"\n",
      " b\"I saw this film on True Movies (which automatically made me sceptical) but actually - it was good. Why? Not because of the amazing plot twists or breathtaking dialogue (of which there is little) but because actually, despite what people say I thought the film was accurate in it's depiction of teenagers dealing with pregnancy.<br /><br />It's NOT Dawson's Creek, they're not graceful, cool witty characters who breeze through sexuality with effortless knowledge. They're kids and they act like kids would. <br /><br />They're blunt, awkward and annoyingly confused about everything. Yes, this could be by accident and they could just be bad actors but I don't think so. Dermot Mulroney gives (when not trying to be cool) a very believable performance and I loved him for it. Patricia Arquette IS whiny and annoying, but she was pregnant and a teenagers? The combination of the two isn't exactly lavender on your pillow. The plot was VERY predictable and but so what? I believed them, his stress and inability to cope - her brave, yet slightly misguided attempts to bring them closer together. I think the characters, acted by anyone else, WOULD indeed have been annoying and unbelievable but they weren't. It reflects the surreality of the situation they're in, that he's sitting in class and she walks on campus with the baby. I felt angry at her for that, I felt angry at him for being such a child and for blaming her. I felt it all.<br /><br />In the end, I loved it and would recommend it.<br /><br />Watch out for the scene where Dermot Mulroney runs from the disastrous counselling session - career performance.\"\n",
      " b'This was a wonderfully clever and entertaining movie that I shall never tire of watching many, many times. The casting was magnificent in matching up the young with the older characters. There are those of us out here who really do appreciate good actors and an intelligent story format. As for Judi Dench, she is beautiful and a gift to any kind of production in which she stars. I always make a point to see Judi Dench in all her performances. She is a superb actress and a pleasure to watch as each transformation of her character comes to life. I can only be grateful when I see such an outstanding picture for most of the motion pictures made more recently lack good characters, good scripts and good acting. The movie public needs heroes, not deviant manikins, who lack ingenuity and talent. How wonderful to see old favorites like Leslie Caron, Olympia Dukakis and Cleo Laine. I would like to see this movie win the awards it deserves. Thank you again for a tremendous night of entertainment. I congratulate the writer, director, producer, and all those who did such a fine job.'\n",
      " b'I have no idea what the other reviewer is talking about- this was a wonderful movie, and created a sense of the era that feels like time travel. The characters are truly young, Mary is a strong match for Byron, Claire is juvenile and a tad annoying, Polidori is a convincing beaten-down sycophant... all are beautiful, curious, and decadent... not the frightening wrecks they are in Gothic.<br /><br />Gothic works as an independent piece of shock film, and I loved it for different reasons, but this works like a Merchant and Ivory film, and was from my readings the best capture of what the summer must have felt like. Romantic, yes, but completely rekindles my interest in the lives of Shelley and Byron every time I think about the film. One of my all-time favorites.'\n",
      " b\"This was soul-provoking! I am an Iranian, and living in th 21st century, I didn't know that such big tribes have been living in such conditions at the time of my grandfather!<br /><br />You see that today, or even in 1925, on one side of the world a lady or a baby could have everything served for him or her clean and on-demand, but here 80 years ago, people ventured their life to go to somewhere with more grass. It's really interesting that these Persians bear those difficulties to find pasture for their sheep, but they lose many the sheep on their way.<br /><br />I praise the Americans who accompanied this tribe, they were as tough as Bakhtiari people.\"\n",
      " b'Just because someone is under the age of 10 does not mean they are stupid. If your child likes this film you\\'d better have him/her tested. I am continually amazed at how so many people can be involved in something that turns out so bad. This \"film\" is a showcase for digital wizardry AND NOTHING ELSE. The writing is horrid. I can\\'t remember when I\\'ve heard such bad dialogue. The songs are beyond wretched. The acting is sub-par but then the actors were not given much. Who decided to employ Joey Fatone? He cannot sing and he is ugly as sin.<br /><br />The worst thing is the obviousness of it all. It is as if the writers went out of their way to make it all as stupid as possible. Great children\\'s movies are wicked, smart and full of wit - films like Shrek and Toy Story in recent years, Willie Wonka and The Witches to mention two of the past. But in the continual dumbing-down of American more are flocking to dreck like Finding Nemo (yes, that\\'s right), the recent Charlie & The Chocolate Factory and eye-crossing trash like Red Riding Hood.'\n",
      " b\"I absolutely LOVED this movie when I was a kid. I cried every time I watched it. It wasn't weird to me. I totally identified with the characters. I would love to see it again (and hope I wont be disappointed!). Pufnstuf rocks!!!! I was really drawn in to the fantasy world. And to me the movie was loooong. I wonder if I ever saw the series and have confused them? The acting I thought was strong. I loved Jack Wilde. He was so dreamy to an 10 year old (when I first saw the movie, not in 1970. I can still remember the characters vividly. The flute was totally believable and I can still 'feel' the evil woods. Witchy poo was scary - I wouldn't want to cross her path.\"\n",
      " b'A very close and sharp discription of the bubbling and dynamic emotional world of specialy one 18year old guy, that makes his first experiences in his gay love to an other boy, during an vacation with a part of his family.<br /><br />I liked this film because of his extremly clear and surrogated storytelling , with all this \"Sound-close-ups\" and quiet moments wich had been full of intensive moods.<br /><br />'\n"
     ]
    },
    {
     "name": "stdout",
     "output_type": "stream",
     "text": [
      " b\"This is the most depressing film I have ever seen. I first saw it as a child and even thinking about it now really upsets me. I know it was set in a time when life was hard and I know these people were poor and the crops were vital. Yes, I get all that. What I find hard to take is I can't remember one single light moment in the entire film. Maybe it was true to life, I don't know. I'm quite sure the acting was top notch and the direction and quality of filming etc etc was wonderful and I know that every film can't have a happy ending but as a family film it is dire in my opinion.<br /><br />I wouldn't recommend it to anyone who wants to be entertained by a film. I can't stress enough how this film affected me as a child. I was talking about it recently and all the sad memories came flooding back. I think it would have all but the heartless reaching for the Prozac.\"], shape=(10,), dtype=string)\n",
      "tf.Tensor([1 1 1 1 1 1 0 1 1 0], shape=(10,), dtype=int64)\n"
     ]
    }
   ],
   "source": [
    "import numpy as np\n",
    "import tensorflow as tf\n",
    "import tensorflow_hub as hub\n",
    "import tensorflow_datasets as tfds\n",
    "\n",
    "\n",
    "# 划分数据集\n",
    "# 60%(15,000)用于训练 40%（10,000）用于验证(validation)\n",
    "train_validation_split = tfds.Split.TRAIN.subsplit([6, 4])\n",
    "\n",
    "(train_data, val_data), test_data = tfds.load(\n",
    "    name=\"imdb_reviews\",\n",
    "    split=(train_validation_split, tfds.Split.TEST),\n",
    "    as_supervised=True)\n",
    "\n",
    "# 数据格式\n",
    "train_examples_batch, train_label_batch = next(iter(train_data.batch(10)))\n",
    "print(\"数据的样式为：\")\n",
    "print(train_examples_batch)\n",
    "print(train_label_batch)"
   ]
  },
  {
   "cell_type": "code",
   "execution_count": 2,
   "metadata": {},
   "outputs": [
    {
     "data": {
      "text/plain": [
       "<tf.Tensor: id=400, shape=(3, 20), dtype=float32, numpy=\n",
       "array([[ 3.9819887 , -4.4838037 ,  5.177359  , -2.3643482 , -3.2938678 ,\n",
       "        -3.5364532 , -2.4786978 ,  2.5525482 ,  6.688532  , -2.3076782 ,\n",
       "        -1.9807833 ,  1.1315885 , -3.0339816 , -0.7604128 , -5.743445  ,\n",
       "         3.4242578 ,  4.790099  , -4.03061   , -5.992149  , -1.7297493 ],\n",
       "       [ 3.4232912 , -4.230874  ,  4.1488533 , -0.29553518, -6.802391  ,\n",
       "        -2.5163853 , -4.4002395 ,  1.905792  ,  4.7512794 , -0.40538004,\n",
       "        -4.3401685 ,  1.0361497 ,  0.9744097 ,  0.71507156, -6.2657013 ,\n",
       "         0.16533905,  4.560262  , -1.3106939 , -3.1121316 , -2.1338716 ],\n",
       "       [ 3.8508697 , -5.003031  ,  4.8700504 , -0.04324996, -5.893603  ,\n",
       "        -5.2983093 , -4.004676  ,  4.1236343 ,  6.267754  ,  0.11632943,\n",
       "        -3.5934832 ,  0.8023905 ,  0.56146765,  0.9192484 , -7.3066816 ,\n",
       "         2.8202746 ,  6.2000837 , -3.5709393 , -4.564525  , -2.305622  ]],\n",
       "      dtype=float32)>"
      ]
     },
     "execution_count": 2,
     "metadata": {},
     "output_type": "execute_result"
    }
   ],
   "source": [
    "# 文本嵌入过程\n",
    "embedding = \"https://tfhub.dev/google/tf2-preview/gnews-swivel-20dim/1\"\n",
    "\n",
    "hub_layer = hub.KerasLayer(embedding, input_shape=[],\n",
    "                           dtype=tf.string, trainable=True)\n",
    "hub_layer(train_examples_batch[:3])"
   ]
  },
  {
   "cell_type": "markdown",
   "metadata": {},
   "source": [
    "# Build the model"
   ]
  },
  {
   "cell_type": "code",
   "execution_count": 3,
   "metadata": {
    "scrolled": false
   },
   "outputs": [
    {
     "name": "stdout",
     "output_type": "stream",
     "text": [
      "Model: \"sequential\"\n",
      "_________________________________________________________________\n",
      "Layer (type)                 Output Shape              Param #   \n",
      "=================================================================\n",
      "keras_layer (KerasLayer)     (None, 20)                400020    \n",
      "_________________________________________________________________\n",
      "dense (Dense)                (None, 16)                336       \n",
      "_________________________________________________________________\n",
      "dense_1 (Dense)              (None, 1)                 17        \n",
      "=================================================================\n",
      "Total params: 400,373\n",
      "Trainable params: 400,373\n",
      "Non-trainable params: 0\n",
      "_________________________________________________________________\n"
     ]
    }
   ],
   "source": [
    "model = tf.keras.Sequential()\n",
    "model.add(hub_layer)\n",
    "model.add(tf.keras.layers.Dense(16, activation=\"relu\"))\n",
    "model.add(tf.keras.layers.Dense(1, activation=\"sigmoid\"))\n",
    "\n",
    "model.summary()"
   ]
  },
  {
   "cell_type": "markdown",
   "metadata": {},
   "source": [
    "# loss function and optimizer"
   ]
  },
  {
   "cell_type": "code",
   "execution_count": 5,
   "metadata": {},
   "outputs": [],
   "source": [
    "model.compile(optimizer='adam', loss='binary_crossentropy', metrics=['accuracy'])"
   ]
  },
  {
   "cell_type": "markdown",
   "metadata": {},
   "source": [
    "# Train the model"
   ]
  },
  {
   "cell_type": "code",
   "execution_count": 6,
   "metadata": {},
   "outputs": [
    {
     "name": "stdout",
     "output_type": "stream",
     "text": [
      "Epoch 1/20\n",
      "30/30 [==============================]: 1.7177 - accuracy: 0.472 - 1s 470ms/step - loss: 1.6365 - accuracy: 0.491 - 1s 342ms/step - loss: 1.6023 - accuracy: 0.487 - 1s 281ms/step - loss: 1.5537 - accuracy: 0.492 - 1s 241ms/step - loss: 1.5249 - accuracy: 0.493 - 1s 214ms/step - loss: 1.5108 - accuracy: 0.488 - 1s 194ms/step - loss: 1.4853 - accuracy: 0.490 - 1s 179ms/step - loss: 1.4615 - accuracy: 0.488 - 2s 168ms/step - loss: 1.4396 - accuracy: 0.487 - 2s 159ms/step - loss: 1.4113 - accuracy: 0.490 - 2s 151ms/step - loss: 1.3845 - accuracy: 0.490 - 2s 145ms/step - loss: 1.3627 - accuracy: 0.489 - 2s 140ms/step - loss: 1.3403 - accuracy: 0.490 - 2s 135ms/step - loss: 1.3199 - accuracy: 0.488 - 2s 132ms/step - loss: 1.2936 - accuracy: 0.490 - 2s 128ms/step - loss: 1.2695 - accuracy: 0.489 - 2s 125ms/step - loss: 1.2492 - accuracy: 0.488 - 2s 122ms/step - loss: 1.2281 - accuracy: 0.489 - 2s 120ms/step - loss: 1.2093 - accuracy: 0.488 - 2s 118ms/step - loss: 1.1905 - accuracy: 0.488 - 2s 116ms/step - loss: 1.1726 - accuracy: 0.487 - 3s 114ms/step - loss: 1.1558 - accuracy: 0.487 - 3s 112ms/step - loss: 1.1408 - accuracy: 0.486 - 3s 111ms/step - loss: 1.1242 - accuracy: 0.488 - 3s 109ms/step - loss: 1.1111 - accuracy: 0.488 - 3s 107ms/step - loss: 1.0976 - accuracy: 0.490 - 3s 107ms/step - loss: 1.0860 - accuracy: 0.489 - 3s 106ms/step - loss: 1.0755 - accuracy: 0.490 - 3s 105ms/step - loss: 1.0642 - accuracy: 0.491 - 3s 102ms/step - loss: 1.0550 - accuracy: 0.491 - 5s 153ms/step - loss: 1.0550 - accuracy: 0.4914 - val_loss: 0.0000e+00 - val_accuracy: 0.0000e+00\n",
      "Epoch 2/20\n",
      "30/30 [==============================] - ETA: 4s - loss: 0.7672 - accuracy: 0.50 - ETA: 2s - loss: 0.7507 - accuracy: 0.53 - ETA: 2s - loss: 0.7420 - accuracy: 0.54 - ETA: 1s - loss: 0.7402 - accuracy: 0.54 - ETA: 1s - loss: 0.7446 - accuracy: 0.54 - ETA: 1s - loss: 0.7432 - accuracy: 0.54 - ETA: 1s - loss: 0.7425 - accuracy: 0.54 - ETA: 1s - loss: 0.7346 - accuracy: 0.55 - ETA: 1s - loss: 0.7346 - accuracy: 0.55 - ETA: 0s - loss: 0.7328 - accuracy: 0.55 - ETA: 0s - loss: 0.7297 - accuracy: 0.55 - ETA: 0s - loss: 0.7281 - accuracy: 0.55 - ETA: 0s - loss: 0.7234 - accuracy: 0.56 - ETA: 0s - loss: 0.7211 - accuracy: 0.56 - ETA: 0s - loss: 0.7203 - accuracy: 0.56 - ETA: 0s - loss: 0.7180 - accuracy: 0.56 - ETA: 0s - loss: 0.7163 - accuracy: 0.56 - ETA: 0s - loss: 0.7150 - accuracy: 0.56 - ETA: 0s - loss: 0.7133 - accuracy: 0.56 - 4s 123ms/step - loss: 0.7088 - accuracy: 0.5747 - val_loss: 0.6619 - val_accuracy: 0.6147\n",
      "Epoch 3/20\n",
      "30/30 [==============================] - ETA: 3s - loss: 0.6389 - accuracy: 0.63 - ETA: 2s - loss: 0.6469 - accuracy: 0.62 - ETA: 2s - loss: 0.6388 - accuracy: 0.63 - ETA: 1s - loss: 0.6460 - accuracy: 0.62 - ETA: 1s - loss: 0.6497 - accuracy: 0.62 - ETA: 1s - loss: 0.6514 - accuracy: 0.62 - ETA: 1s - loss: 0.6495 - accuracy: 0.62 - ETA: 1s - loss: 0.6466 - accuracy: 0.63 - ETA: 1s - loss: 0.6470 - accuracy: 0.62 - ETA: 0s - loss: 0.6473 - accuracy: 0.63 - ETA: 0s - loss: 0.6468 - accuracy: 0.63 - ETA: 0s - loss: 0.6453 - accuracy: 0.63 - ETA: 0s - loss: 0.6449 - accuracy: 0.63 - ETA: 0s - loss: 0.6441 - accuracy: 0.63 - ETA: 0s - loss: 0.6455 - accuracy: 0.63 - ETA: 0s - loss: 0.6447 - accuracy: 0.63 - ETA: 0s - loss: 0.6466 - accuracy: 0.63 - ETA: 0s - loss: 0.6450 - accuracy: 0.63 - ETA: 0s - loss: 0.6450 - accuracy: 0.63 - 4s 125ms/step - loss: 0.6433 - accuracy: 0.6335 - val_loss: 0.6219 - val_accuracy: 0.6539\n",
      "Epoch 4/20\n",
      "30/30 [==============================] - ETA: 3s - loss: 0.6274 - accuracy: 0.63 - ETA: 2s - loss: 0.6159 - accuracy: 0.65 - ETA: 2s - loss: 0.6099 - accuracy: 0.66 - ETA: 1s - loss: 0.6076 - accuracy: 0.66 - ETA: 1s - loss: 0.6104 - accuracy: 0.66 - ETA: 1s - loss: 0.6035 - accuracy: 0.67 - ETA: 1s - loss: 0.6087 - accuracy: 0.67 - ETA: 1s - loss: 0.6081 - accuracy: 0.67 - ETA: 1s - loss: 0.6087 - accuracy: 0.67 - ETA: 0s - loss: 0.6075 - accuracy: 0.67 - ETA: 0s - loss: 0.6058 - accuracy: 0.67 - ETA: 0s - loss: 0.6043 - accuracy: 0.67 - ETA: 0s - loss: 0.6051 - accuracy: 0.67 - ETA: 0s - loss: 0.6072 - accuracy: 0.67 - ETA: 0s - loss: 0.6069 - accuracy: 0.67 - ETA: 0s - loss: 0.6062 - accuracy: 0.67 - ETA: 0s - loss: 0.6079 - accuracy: 0.67 - ETA: 0s - loss: 0.6076 - accuracy: 0.66 - ETA: 0s - loss: 0.6068 - accuracy: 0.67 - 4s 120ms/step - loss: 0.6045 - accuracy: 0.6736 - val_loss: 0.5864 - val_accuracy: 0.6920\n",
      "Epoch 5/20\n",
      "30/30 [==============================] - ETA: 3s - loss: 0.5790 - accuracy: 0.69 - ETA: 2s - loss: 0.5765 - accuracy: 0.69 - ETA: 1s - loss: 0.5687 - accuracy: 0.70 - ETA: 1s - loss: 0.5697 - accuracy: 0.70 - ETA: 1s - loss: 0.5646 - accuracy: 0.70 - ETA: 1s - loss: 0.5686 - accuracy: 0.70 - ETA: 1s - loss: 0.5711 - accuracy: 0.70 - ETA: 1s - loss: 0.5687 - accuracy: 0.70 - ETA: 1s - loss: 0.5686 - accuracy: 0.70 - ETA: 0s - loss: 0.5702 - accuracy: 0.70 - ETA: 0s - loss: 0.5697 - accuracy: 0.70 - ETA: 0s - loss: 0.5707 - accuracy: 0.70 - ETA: 0s - loss: 0.5699 - accuracy: 0.70 - ETA: 0s - loss: 0.5692 - accuracy: 0.70 - ETA: 0s - loss: 0.5690 - accuracy: 0.70 - ETA: 0s - loss: 0.5688 - accuracy: 0.70 - ETA: 0s - loss: 0.5698 - accuracy: 0.70 - ETA: 0s - loss: 0.5693 - accuracy: 0.70 - ETA: 0s - loss: 0.5683 - accuracy: 0.70 - 4s 118ms/step - loss: 0.5663 - accuracy: 0.7117 - val_loss: 0.5526 - val_accuracy: 0.7252\n",
      "Epoch 6/20\n",
      "30/30 [==============================] - ETA: 4s - loss: 0.5568 - accuracy: 0.70 - ETA: 2s - loss: 0.5346 - accuracy: 0.73 - ETA: 2s - loss: 0.5418 - accuracy: 0.72 - ETA: 1s - loss: 0.5390 - accuracy: 0.73 - ETA: 1s - loss: 0.5372 - accuracy: 0.73 - ETA: 1s - loss: 0.5336 - accuracy: 0.73 - ETA: 1s - loss: 0.5371 - accuracy: 0.73 - ETA: 1s - loss: 0.5355 - accuracy: 0.73 - ETA: 1s - loss: 0.5368 - accuracy: 0.73 - ETA: 0s - loss: 0.5363 - accuracy: 0.73 - ETA: 0s - loss: 0.5360 - accuracy: 0.73 - ETA: 0s - loss: 0.5331 - accuracy: 0.73 - ETA: 0s - loss: 0.5347 - accuracy: 0.73 - ETA: 0s - loss: 0.5345 - accuracy: 0.73 - ETA: 0s - loss: 0.5352 - accuracy: 0.73 - ETA: 0s - loss: 0.5342 - accuracy: 0.73 - ETA: 0s - loss: 0.5336 - accuracy: 0.73 - ETA: 0s - loss: 0.5322 - accuracy: 0.74 - ETA: 0s - loss: 0.5314 - accuracy: 0.74 - 4s 117ms/step - loss: 0.5295 - accuracy: 0.7437 - val_loss: 0.5203 - val_accuracy: 0.7497\n",
      "Epoch 7/20\n",
      "30/30 [==============================] - ETA: 3s - loss: 0.5021 - accuracy: 0.76 - ETA: 2s - loss: 0.5128 - accuracy: 0.75 - ETA: 2s - loss: 0.5059 - accuracy: 0.76 - ETA: 1s - loss: 0.4997 - accuracy: 0.76 - ETA: 1s - loss: 0.5008 - accuracy: 0.76 - ETA: 1s - loss: 0.5001 - accuracy: 0.76 - ETA: 1s - loss: 0.5007 - accuracy: 0.76 - ETA: 1s - loss: 0.5005 - accuracy: 0.76 - ETA: 1s - loss: 0.4993 - accuracy: 0.77 - ETA: 0s - loss: 0.4958 - accuracy: 0.77 - ETA: 0s - loss: 0.4960 - accuracy: 0.77 - ETA: 0s - loss: 0.4978 - accuracy: 0.76 - ETA: 0s - loss: 0.4969 - accuracy: 0.76 - ETA: 0s - loss: 0.4967 - accuracy: 0.76 - ETA: 0s - loss: 0.4952 - accuracy: 0.77 - ETA: 0s - loss: 0.4959 - accuracy: 0.76 - ETA: 0s - loss: 0.4962 - accuracy: 0.76 - ETA: 0s - loss: 0.4966 - accuracy: 0.76 - ETA: 0s - loss: 0.4958 - accuracy: 0.76 - 4s 119ms/step - loss: 0.4936 - accuracy: 0.7728 - val_loss: 0.4897 - val_accuracy: 0.7737\n",
      "Epoch 8/20\n",
      "30/30 [==============================] - ETA: 3s - loss: 0.4745 - accuracy: 0.76 - ETA: 2s - loss: 0.4872 - accuracy: 0.76 - ETA: 1s - loss: 0.4725 - accuracy: 0.78 - ETA: 1s - loss: 0.4695 - accuracy: 0.78 - ETA: 1s - loss: 0.4650 - accuracy: 0.79 - ETA: 1s - loss: 0.4660 - accuracy: 0.79 - ETA: 1s - loss: 0.4653 - accuracy: 0.79 - ETA: 1s - loss: 0.4631 - accuracy: 0.79 - ETA: 1s - loss: 0.4639 - accuracy: 0.79 - ETA: 0s - loss: 0.4635 - accuracy: 0.78 - ETA: 0s - loss: 0.4636 - accuracy: 0.79 - ETA: 0s - loss: 0.4634 - accuracy: 0.79 - ETA: 0s - loss: 0.4612 - accuracy: 0.79 - ETA: 0s - loss: 0.4629 - accuracy: 0.79 - ETA: 0s - loss: 0.4629 - accuracy: 0.79 - ETA: 0s - loss: 0.4618 - accuracy: 0.79 - ETA: 0s - loss: 0.4621 - accuracy: 0.79 - ETA: 0s - loss: 0.4618 - accuracy: 0.79 - ETA: 0s - loss: 0.4625 - accuracy: 0.79 - 4s 120ms/step - loss: 0.4600 - accuracy: 0.7956 - val_loss: 0.4618 - val_accuracy: 0.7889\n",
      "Epoch 9/20\n"
     ]
    },
    {
     "name": "stdout",
     "output_type": "stream",
     "text": [
      "30/30 [==============================] - ETA: 3s - loss: 0.4449 - accuracy: 0.79 - ETA: 2s - loss: 0.4467 - accuracy: 0.80 - ETA: 1s - loss: 0.4283 - accuracy: 0.81 - ETA: 1s - loss: 0.4325 - accuracy: 0.81 - ETA: 1s - loss: 0.4284 - accuracy: 0.81 - ETA: 1s - loss: 0.4264 - accuracy: 0.81 - ETA: 1s - loss: 0.4316 - accuracy: 0.81 - ETA: 1s - loss: 0.4315 - accuracy: 0.81 - ETA: 0s - loss: 0.4308 - accuracy: 0.81 - ETA: 0s - loss: 0.4290 - accuracy: 0.81 - ETA: 0s - loss: 0.4295 - accuracy: 0.81 - ETA: 0s - loss: 0.4297 - accuracy: 0.81 - ETA: 0s - loss: 0.4300 - accuracy: 0.80 - ETA: 0s - loss: 0.4297 - accuracy: 0.80 - ETA: 0s - loss: 0.4309 - accuracy: 0.80 - ETA: 0s - loss: 0.4301 - accuracy: 0.80 - ETA: 0s - loss: 0.4292 - accuracy: 0.81 - ETA: 0s - loss: 0.4282 - accuracy: 0.81 - ETA: 0s - loss: 0.4295 - accuracy: 0.81 - 3s 116ms/step - loss: 0.4270 - accuracy: 0.8161 - val_loss: 0.4362 - val_accuracy: 0.8039\n",
      "Epoch 10/20\n",
      "30/30 [==============================] - ETA: 3s - loss: 0.4127 - accuracy: 0.82 - ETA: 2s - loss: 0.4058 - accuracy: 0.82 - ETA: 2s - loss: 0.4034 - accuracy: 0.82 - ETA: 1s - loss: 0.4016 - accuracy: 0.82 - ETA: 1s - loss: 0.4010 - accuracy: 0.83 - ETA: 1s - loss: 0.4046 - accuracy: 0.82 - ETA: 1s - loss: 0.4044 - accuracy: 0.82 - ETA: 1s - loss: 0.4001 - accuracy: 0.82 - ETA: 1s - loss: 0.3989 - accuracy: 0.82 - ETA: 0s - loss: 0.3995 - accuracy: 0.82 - ETA: 0s - loss: 0.3991 - accuracy: 0.82 - ETA: 0s - loss: 0.3973 - accuracy: 0.82 - ETA: 0s - loss: 0.3971 - accuracy: 0.82 - ETA: 0s - loss: 0.4001 - accuracy: 0.82 - ETA: 0s - loss: 0.4009 - accuracy: 0.82 - ETA: 0s - loss: 0.3993 - accuracy: 0.82 - ETA: 0s - loss: 0.3975 - accuracy: 0.82 - ETA: 0s - loss: 0.3977 - accuracy: 0.82 - ETA: 0s - loss: 0.3978 - accuracy: 0.82 - 4s 118ms/step - loss: 0.3955 - accuracy: 0.8327 - val_loss: 0.4123 - val_accuracy: 0.8166\n",
      "Epoch 11/20\n",
      "30/30 [==============================] - ETA: 3s - loss: 0.4022 - accuracy: 0.81 - ETA: 2s - loss: 0.3765 - accuracy: 0.83 - ETA: 1s - loss: 0.3774 - accuracy: 0.84 - ETA: 1s - loss: 0.3707 - accuracy: 0.84 - ETA: 1s - loss: 0.3726 - accuracy: 0.84 - ETA: 1s - loss: 0.3704 - accuracy: 0.84 - ETA: 1s - loss: 0.3696 - accuracy: 0.84 - ETA: 1s - loss: 0.3702 - accuracy: 0.84 - ETA: 0s - loss: 0.3683 - accuracy: 0.84 - ETA: 0s - loss: 0.3688 - accuracy: 0.84 - ETA: 0s - loss: 0.3706 - accuracy: 0.84 - ETA: 0s - loss: 0.3696 - accuracy: 0.84 - ETA: 0s - loss: 0.3686 - accuracy: 0.84 - ETA: 0s - loss: 0.3673 - accuracy: 0.84 - ETA: 0s - loss: 0.3680 - accuracy: 0.84 - ETA: 0s - loss: 0.3688 - accuracy: 0.84 - ETA: 0s - loss: 0.3684 - accuracy: 0.84 - ETA: 0s - loss: 0.3672 - accuracy: 0.84 - ETA: 0s - loss: 0.3682 - accuracy: 0.84 - 4s 117ms/step - loss: 0.3662 - accuracy: 0.8465 - val_loss: 0.3915 - val_accuracy: 0.8284\n",
      "Epoch 12/20\n",
      "30/30 [==============================] - ETA: 3s - loss: 0.3729 - accuracy: 0.85 - ETA: 2s - loss: 0.3484 - accuracy: 0.86 - ETA: 1s - loss: 0.3427 - accuracy: 0.86 - ETA: 1s - loss: 0.3434 - accuracy: 0.86 - ETA: 1s - loss: 0.3453 - accuracy: 0.86 - ETA: 1s - loss: 0.3425 - accuracy: 0.86 - ETA: 1s - loss: 0.3440 - accuracy: 0.86 - ETA: 1s - loss: 0.3444 - accuracy: 0.85 - ETA: 1s - loss: 0.3432 - accuracy: 0.86 - ETA: 0s - loss: 0.3405 - accuracy: 0.86 - ETA: 0s - loss: 0.3421 - accuracy: 0.86 - ETA: 0s - loss: 0.3417 - accuracy: 0.86 - ETA: 0s - loss: 0.3407 - accuracy: 0.86 - ETA: 0s - loss: 0.3416 - accuracy: 0.86 - ETA: 0s - loss: 0.3433 - accuracy: 0.85 - ETA: 0s - loss: 0.3441 - accuracy: 0.85 - ETA: 0s - loss: 0.3430 - accuracy: 0.85 - ETA: 0s - loss: 0.3430 - accuracy: 0.85 - ETA: 0s - loss: 0.3444 - accuracy: 0.85 - 4s 125ms/step - loss: 0.3414 - accuracy: 0.8623 - val_loss: 0.3732 - val_accuracy: 0.8387\n",
      "Epoch 13/20\n",
      "30/30 [==============================] - ETA: 3s - loss: 0.3269 - accuracy: 0.86 - ETA: 2s - loss: 0.3296 - accuracy: 0.86 - ETA: 1s - loss: 0.3318 - accuracy: 0.86 - ETA: 1s - loss: 0.3262 - accuracy: 0.86 - ETA: 1s - loss: 0.3220 - accuracy: 0.87 - ETA: 1s - loss: 0.3179 - accuracy: 0.87 - ETA: 1s - loss: 0.3189 - accuracy: 0.87 - ETA: 1s - loss: 0.3173 - accuracy: 0.87 - ETA: 1s - loss: 0.3165 - accuracy: 0.87 - ETA: 0s - loss: 0.3156 - accuracy: 0.87 - ETA: 0s - loss: 0.3164 - accuracy: 0.87 - ETA: 0s - loss: 0.3160 - accuracy: 0.87 - ETA: 0s - loss: 0.3169 - accuracy: 0.87 - ETA: 0s - loss: 0.3172 - accuracy: 0.87 - ETA: 0s - loss: 0.3164 - accuracy: 0.87 - ETA: 0s - loss: 0.3162 - accuracy: 0.87 - ETA: 0s - loss: 0.3164 - accuracy: 0.87 - ETA: 0s - loss: 0.3172 - accuracy: 0.87 - ETA: 0s - loss: 0.3163 - accuracy: 0.87 - 4s 124ms/step - loss: 0.3145 - accuracy: 0.8755 - val_loss: 0.3574 - val_accuracy: 0.8462\n",
      "Epoch 14/20\n",
      "30/30 [==============================] - ETA: 3s - loss: 0.2972 - accuracy: 0.87 - ETA: 2s - loss: 0.3013 - accuracy: 0.87 - ETA: 2s - loss: 0.2915 - accuracy: 0.88 - ETA: 1s - loss: 0.2907 - accuracy: 0.88 - ETA: 1s - loss: 0.2966 - accuracy: 0.88 - ETA: 1s - loss: 0.2898 - accuracy: 0.88 - ETA: 1s - loss: 0.2924 - accuracy: 0.88 - ETA: 1s - loss: 0.2926 - accuracy: 0.88 - ETA: 1s - loss: 0.2948 - accuracy: 0.88 - ETA: 0s - loss: 0.2970 - accuracy: 0.88 - ETA: 0s - loss: 0.2967 - accuracy: 0.88 - ETA: 0s - loss: 0.2949 - accuracy: 0.88 - ETA: 0s - loss: 0.2953 - accuracy: 0.88 - ETA: 0s - loss: 0.2949 - accuracy: 0.88 - ETA: 0s - loss: 0.2941 - accuracy: 0.88 - ETA: 0s - loss: 0.2947 - accuracy: 0.88 - ETA: 0s - loss: 0.2934 - accuracy: 0.88 - ETA: 0s - loss: 0.2941 - accuracy: 0.88 - ETA: 0s - loss: 0.2926 - accuracy: 0.88 - 4s 122ms/step - loss: 0.2911 - accuracy: 0.8867 - val_loss: 0.3457 - val_accuracy: 0.8512\n",
      "Epoch 15/20\n",
      "30/30 [==============================] - ETA: 3s - loss: 0.2895 - accuracy: 0.87 - ETA: 2s - loss: 0.2906 - accuracy: 0.88 - ETA: 2s - loss: 0.2808 - accuracy: 0.88 - ETA: 1s - loss: 0.2829 - accuracy: 0.88 - ETA: 1s - loss: 0.2783 - accuracy: 0.89 - ETA: 1s - loss: 0.2747 - accuracy: 0.89 - ETA: 1s - loss: 0.2728 - accuracy: 0.89 - ETA: 1s - loss: 0.2734 - accuracy: 0.89 - ETA: 1s - loss: 0.2725 - accuracy: 0.89 - ETA: 0s - loss: 0.2737 - accuracy: 0.89 - ETA: 0s - loss: 0.2717 - accuracy: 0.89 - ETA: 0s - loss: 0.2711 - accuracy: 0.89 - ETA: 0s - loss: 0.2709 - accuracy: 0.89 - ETA: 0s - loss: 0.2731 - accuracy: 0.89 - ETA: 0s - loss: 0.2739 - accuracy: 0.89 - ETA: 0s - loss: 0.2720 - accuracy: 0.89 - ETA: 0s - loss: 0.2735 - accuracy: 0.89 - ETA: 0s - loss: 0.2743 - accuracy: 0.88 - ETA: 0s - loss: 0.2730 - accuracy: 0.89 - 4s 120ms/step - loss: 0.2713 - accuracy: 0.8960 - val_loss: 0.3325 - val_accuracy: 0.8581\n",
      "Epoch 16/20\n",
      "30/30 [==============================] - ETA: 3s - loss: 0.2515 - accuracy: 0.90 - ETA: 2s - loss: 0.2659 - accuracy: 0.89 - ETA: 1s - loss: 0.2585 - accuracy: 0.89 - ETA: 1s - loss: 0.2563 - accuracy: 0.89 - ETA: 1s - loss: 0.2556 - accuracy: 0.90 - ETA: 1s - loss: 0.2516 - accuracy: 0.90 - ETA: 1s - loss: 0.2565 - accuracy: 0.90 - ETA: 1s - loss: 0.2525 - accuracy: 0.90 - ETA: 1s - loss: 0.2540 - accuracy: 0.90 - ETA: 0s - loss: 0.2511 - accuracy: 0.90 - ETA: 0s - loss: 0.2524 - accuracy: 0.90 - ETA: 0s - loss: 0.2528 - accuracy: 0.90 - ETA: 0s - loss: 0.2516 - accuracy: 0.90 - ETA: 0s - loss: 0.2521 - accuracy: 0.90 - ETA: 0s - loss: 0.2528 - accuracy: 0.90 - ETA: 0s - loss: 0.2531 - accuracy: 0.90 - ETA: 0s - loss: 0.2523 - accuracy: 0.90 - ETA: 0s - loss: 0.2523 - accuracy: 0.90 - ETA: 0s - loss: 0.2526 - accuracy: 0.90 - 4s 120ms/step - loss: 0.2512 - accuracy: 0.9047 - val_loss: 0.3225 - val_accuracy: 0.8644\n",
      "Epoch 17/20\n"
     ]
    },
    {
     "name": "stdout",
     "output_type": "stream",
     "text": [
      "30/30 [==============================] - ETA: 3s - loss: 0.2290 - accuracy: 0.91 - ETA: 2s - loss: 0.2457 - accuracy: 0.90 - ETA: 1s - loss: 0.2466 - accuracy: 0.90 - ETA: 1s - loss: 0.2376 - accuracy: 0.91 - ETA: 1s - loss: 0.2364 - accuracy: 0.91 - ETA: 1s - loss: 0.2378 - accuracy: 0.91 - ETA: 1s - loss: 0.2387 - accuracy: 0.91 - ETA: 1s - loss: 0.2370 - accuracy: 0.91 - ETA: 1s - loss: 0.2384 - accuracy: 0.91 - ETA: 0s - loss: 0.2353 - accuracy: 0.91 - ETA: 0s - loss: 0.2344 - accuracy: 0.91 - ETA: 0s - loss: 0.2332 - accuracy: 0.91 - ETA: 0s - loss: 0.2345 - accuracy: 0.91 - ETA: 0s - loss: 0.2349 - accuracy: 0.91 - ETA: 0s - loss: 0.2356 - accuracy: 0.91 - ETA: 0s - loss: 0.2359 - accuracy: 0.91 - ETA: 0s - loss: 0.2348 - accuracy: 0.91 - ETA: 0s - loss: 0.2353 - accuracy: 0.91 - ETA: 0s - loss: 0.2337 - accuracy: 0.91 - 4s 119ms/step - loss: 0.2329 - accuracy: 0.9132 - val_loss: 0.3150 - val_accuracy: 0.8679\n",
      "Epoch 18/20\n",
      "30/30 [==============================] - ETA: 3s - loss: 0.2445 - accuracy: 0.90 - ETA: 2s - loss: 0.2258 - accuracy: 0.91 - ETA: 2s - loss: 0.2210 - accuracy: 0.92 - ETA: 1s - loss: 0.2201 - accuracy: 0.92 - ETA: 1s - loss: 0.2215 - accuracy: 0.92 - ETA: 1s - loss: 0.2196 - accuracy: 0.92 - ETA: 1s - loss: 0.2218 - accuracy: 0.92 - ETA: 1s - loss: 0.2201 - accuracy: 0.92 - ETA: 1s - loss: 0.2184 - accuracy: 0.92 - ETA: 0s - loss: 0.2193 - accuracy: 0.92 - ETA: 0s - loss: 0.2185 - accuracy: 0.92 - ETA: 0s - loss: 0.2176 - accuracy: 0.92 - ETA: 0s - loss: 0.2169 - accuracy: 0.92 - ETA: 0s - loss: 0.2177 - accuracy: 0.92 - ETA: 0s - loss: 0.2188 - accuracy: 0.92 - ETA: 0s - loss: 0.2192 - accuracy: 0.92 - ETA: 0s - loss: 0.2202 - accuracy: 0.92 - ETA: 0s - loss: 0.2198 - accuracy: 0.92 - ETA: 0s - loss: 0.2185 - accuracy: 0.92 - 4s 119ms/step - loss: 0.2173 - accuracy: 0.9229 - val_loss: 0.3095 - val_accuracy: 0.8680\n",
      "Epoch 19/20\n",
      "30/30 [==============================] - ETA: 3s - loss: 0.2219 - accuracy: 0.91 - ETA: 2s - loss: 0.2115 - accuracy: 0.92 - ETA: 2s - loss: 0.2064 - accuracy: 0.92 - ETA: 1s - loss: 0.2099 - accuracy: 0.92 - ETA: 1s - loss: 0.2072 - accuracy: 0.92 - ETA: 1s - loss: 0.2078 - accuracy: 0.92 - ETA: 1s - loss: 0.2071 - accuracy: 0.92 - ETA: 1s - loss: 0.2063 - accuracy: 0.92 - ETA: 1s - loss: 0.2016 - accuracy: 0.92 - ETA: 0s - loss: 0.2002 - accuracy: 0.93 - ETA: 0s - loss: 0.2016 - accuracy: 0.92 - ETA: 0s - loss: 0.2033 - accuracy: 0.92 - ETA: 0s - loss: 0.2031 - accuracy: 0.92 - ETA: 0s - loss: 0.2037 - accuracy: 0.92 - ETA: 0s - loss: 0.2030 - accuracy: 0.92 - ETA: 0s - loss: 0.2027 - accuracy: 0.92 - ETA: 0s - loss: 0.2034 - accuracy: 0.92 - ETA: 0s - loss: 0.2036 - accuracy: 0.92 - ETA: 0s - loss: 0.2030 - accuracy: 0.92 - 4s 122ms/step - loss: 0.2021 - accuracy: 0.9285 - val_loss: 0.3060 - val_accuracy: 0.8718\n",
      "Epoch 20/20\n",
      "30/30 [==============================] - ETA: 3s - loss: 0.1865 - accuracy: 0.93 - ETA: 2s - loss: 0.1949 - accuracy: 0.93 - ETA: 2s - loss: 0.1961 - accuracy: 0.93 - ETA: 1s - loss: 0.1975 - accuracy: 0.93 - ETA: 1s - loss: 0.1919 - accuracy: 0.93 - ETA: 1s - loss: 0.1935 - accuracy: 0.93 - ETA: 1s - loss: 0.1936 - accuracy: 0.93 - ETA: 1s - loss: 0.1906 - accuracy: 0.93 - ETA: 1s - loss: 0.1876 - accuracy: 0.93 - ETA: 0s - loss: 0.1877 - accuracy: 0.93 - ETA: 0s - loss: 0.1898 - accuracy: 0.93 - ETA: 0s - loss: 0.1898 - accuracy: 0.93 - ETA: 0s - loss: 0.1910 - accuracy: 0.93 - ETA: 0s - loss: 0.1906 - accuracy: 0.93 - ETA: 0s - loss: 0.1907 - accuracy: 0.93 - ETA: 0s - loss: 0.1897 - accuracy: 0.93 - ETA: 0s - loss: 0.1899 - accuracy: 0.93 - ETA: 0s - loss: 0.1907 - accuracy: 0.93 - ETA: 0s - loss: 0.1891 - accuracy: 0.93 - 4s 122ms/step - loss: 0.1884 - accuracy: 0.9346 - val_loss: 0.3027 - val_accuracy: 0.8741\n"
     ]
    }
   ],
   "source": [
    "history = model.fit(train_data.shuffle(1000).batch(512), epochs=20, validation_data=val_data.batch(512), verbose=1)"
   ]
  },
  {
   "cell_type": "markdown",
   "metadata": {},
   "source": [
    "# evaluate the model"
   ]
  },
  {
   "cell_type": "code",
   "execution_count": 7,
   "metadata": {},
   "outputs": [],
   "source": [
    "? model.evaluate"
   ]
  },
  {
   "cell_type": "code",
   "execution_count": 10,
   "metadata": {},
   "outputs": [
    {
     "name": "stdout",
     "output_type": "stream",
     "text": [
      "loss: 0.321\n",
      "accuracy: 0.863\n"
     ]
    }
   ],
   "source": [
    "results = model.evaluate(test_data.batch(512), verbose=0)\n",
    "for name, value in zip(model.metrics_names, results):\n",
    "    print(\"%s: %.3f\" %(name, value))"
   ]
  },
  {
   "cell_type": "code",
   "execution_count": null,
   "metadata": {},
   "outputs": [],
   "source": []
  }
 ],
 "metadata": {
  "kernelspec": {
   "display_name": "Python 3",
   "language": "python",
   "name": "python3"
  },
  "language_info": {
   "codemirror_mode": {
    "name": "ipython",
    "version": 3
   },
   "file_extension": ".py",
   "mimetype": "text/x-python",
   "name": "python",
   "nbconvert_exporter": "python",
   "pygments_lexer": "ipython3",
   "version": "3.7.3"
  }
 },
 "nbformat": 4,
 "nbformat_minor": 2
}
